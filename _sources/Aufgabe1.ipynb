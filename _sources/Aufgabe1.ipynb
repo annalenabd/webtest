{
 "cells": [
  {
   "attachments": {},
   "cell_type": "markdown",
   "id": "107c9f2a-81f4-41bc-86b9-1e94bd3583d9",
   "metadata": {
    "tags": []
   },
   "source": [
    "# Übungsaufgabe 1\n",
    "\n",
    "Zeichnen sie den Kräfteplan:\n",
    "\n",
    "![Lageplan1.png](./images/Lageplan1.png)\n",
    "\n",
    "```{note}\n",
    ":class: dropdown\n",
    "Lösung:![Kräfteplan1.png](./images/Krafteplan1.png)\n",
    "```"
   ]
  },
  {
   "cell_type": "code",
   "execution_count": null,
   "id": "af8daea6-0071-4d37-b8bb-3752b88ecaf3",
   "metadata": {},
   "outputs": [],
   "source": []
  }
 ],
 "metadata": {
  "kernelspec": {
   "display_name": "Python 3 (ipykernel)",
   "language": "python",
   "name": "python3"
  },
  "language_info": {
   "codemirror_mode": {
    "name": "ipython",
    "version": 3
   },
   "file_extension": ".py",
   "mimetype": "text/x-python",
   "name": "python",
   "nbconvert_exporter": "python",
   "pygments_lexer": "ipython3",
   "version": "3.10.4"
  }
 },
 "nbformat": 4,
 "nbformat_minor": 5
}
