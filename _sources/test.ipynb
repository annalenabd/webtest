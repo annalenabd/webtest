{
 "cells": [
  {
   "cell_type": "markdown",
   "id": "b3accf36-bbff-44a4-af88-f5f9b5061e16",
   "metadata": {
    "tags": []
   },
   "source": [
    "# Zeichnerische Lösung\n",
    "\n",
    "## Kochrezept:\n",
    "\n",
    "**What you need:**\n",
    "-  Layout plan (positions of the lines of action)\n",
    "-  Force diagram (for (de)composition of the forces – “Addition of vectors”)\n",
    "\n",
    "**Method:**\n",
    "\n",
    "1.\tInsert the lines of action in the layout plan:\n",
    "\n",
    "    •\tFor weight force: infinite line through the centre of gravity  \n",
    "    \n",
    "    •\tFor the following “fixings” the lines of action are clear:\n",
    "        \n",
    "        •Rope: In direction of the rope (“in the rope”)\n",
    "        •Bar with two joints: In direction of the bar (through the joints)\n",
    "        •Frictionless contact: perpendicular to the tangent of the “touching zone” (=normal)\n",
    "•\tFor the following fixings, the line of action must go through the fixing points but is free in terms of direction\n",
    "\n",
    "    •Joint, pinned support\n",
    "    •Contact with friction\n",
    "Draw the known lines of action first, the third line of action must go through their intersection then.\n",
    "\n",
    "2.\tCreate the force diagram:\n",
    "\n",
    "    •\tDraw the given forces to scale\n",
    "    \n",
    "    •\tMove the lines of action of the unknown forces parallel; one to the beginning and one to the end of the line of action of the known force\n",
    "    \n",
    "    •\tBy that a triangle with three consecutive arrows is created \n",
    "3.\tDetermine the unknown forces by measuring the lengths of the arrows of the forces and convert the lengths into force according to scale.\n"
   ]
  },
  {
   "cell_type": "code",
   "execution_count": 3,
   "id": "73d1acca-9192-4b20-9e6c-d94db2c49fc2",
   "metadata": {},
   "outputs": [
    {
     "data": {
      "text/html": [
       "<iframe width=\"560\" height=\"315\" src=\"https://www.youtube.com/embed/jZ952vChhuI\" title=\"YouTube video player\" frameborder=\"0\" allow=\"accelerometer; autoplay; clipboard-write; encrypted-media; gyroscope; picture-in-picture\" allowfullscreen></iframe>\n"
      ],
      "text/plain": [
       "<IPython.core.display.HTML object>"
      ]
     },
     "metadata": {},
     "output_type": "display_data"
    }
   ],
   "source": [
    "%%html\n",
    "<iframe width=\"560\" height=\"315\" src=\"https://www.youtube.com/embed/jZ952vChhuI\" title=\"YouTube video player\" frameborder=\"0\" allow=\"accelerometer; autoplay; clipboard-write; encrypted-media; gyroscope; picture-in-picture\" allowfullscreen></iframe>"
   ]
  },
  {
   "cell_type": "code",
   "execution_count": null,
   "id": "e993b87f-ccf1-4ea1-8702-2e68db00a9ee",
   "metadata": {},
   "outputs": [],
   "source": []
  }
 ],
 "metadata": {
  "kernelspec": {
   "display_name": "Python 3 (ipykernel)",
   "language": "python",
   "name": "python3"
  },
  "language_info": {
   "codemirror_mode": {
    "name": "ipython",
    "version": 3
   },
   "file_extension": ".py",
   "mimetype": "text/x-python",
   "name": "python",
   "nbconvert_exporter": "python",
   "pygments_lexer": "ipython3",
   "version": "3.10.4"
  }
 },
 "nbformat": 4,
 "nbformat_minor": 5
}
